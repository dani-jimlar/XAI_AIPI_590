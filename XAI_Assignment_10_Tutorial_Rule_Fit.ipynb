{
  "nbformat": 4,
  "nbformat_minor": 0,
  "metadata": {
    "colab": {
      "provenance": [],
      "toc_visible": true,
      "mount_file_id": "1Na1qeLZgcZuEECcE0iVtPwgJLQPDQzzU",
      "authorship_tag": "ABX9TyMPIrBRU5vfYwappORaJk6m",
      "include_colab_link": true
    },
    "kernelspec": {
      "name": "python3",
      "display_name": "Python 3"
    },
    "language_info": {
      "name": "python"
    }
  },
  "cells": [
    {
      "cell_type": "markdown",
      "metadata": {
        "id": "view-in-github",
        "colab_type": "text"
      },
      "source": [
        "<a href=\"https://colab.research.google.com/github/dani-jimlar/XAI_AIPI_590/blob/main/XAI_Assignment_10_Tutorial_Rule_Fit.ipynb\" target=\"_parent\"><img src=\"https://colab.research.google.com/assets/colab-badge.svg\" alt=\"Open In Colab\"/></a>"
      ]
    },
    {
      "cell_type": "markdown",
      "source": [
        "# AIPI 590 - XAI | Assignment 10\n",
        "\n",
        "## Rule Fit Tutorial. Decision rules\n",
        "\n",
        "Daniela Jiménez Lara"
      ],
      "metadata": {
        "id": "p9VaVLL-46yp"
      }
    },
    {
      "cell_type": "markdown",
      "source": [
        "# Packages\n",
        "For this tutorial we are going to use the imodels libarry compatible with scikit-learn: https://github.com/csinva/imodels?tab=readme-ov-file. Make sure to install it."
      ],
      "metadata": {
        "id": "PKfl47myWUHy"
      }
    },
    {
      "cell_type": "code",
      "source": [
        "pip install imodels"
      ],
      "metadata": {
        "colab": {
          "base_uri": "https://localhost:8080/"
        },
        "collapsed": true,
        "id": "735WVPhM5DF8",
        "outputId": "2feb4e4e-59f6-4f22-ce8c-10edb89c234b"
      },
      "execution_count": null,
      "outputs": [
        {
          "output_type": "stream",
          "name": "stdout",
          "text": [
            "Collecting imodels\n",
            "  Downloading imodels-2.0.0-py3-none-any.whl.metadata (30 kB)\n",
            "Requirement already satisfied: matplotlib in /usr/local/lib/python3.10/dist-packages (from imodels) (3.8.0)\n",
            "Requirement already satisfied: mlxtend>=0.18.0 in /usr/local/lib/python3.10/dist-packages (from imodels) (0.23.2)\n",
            "Requirement already satisfied: numpy in /usr/local/lib/python3.10/dist-packages (from imodels) (1.26.4)\n",
            "Requirement already satisfied: pandas in /usr/local/lib/python3.10/dist-packages (from imodels) (2.2.2)\n",
            "Requirement already satisfied: requests in /usr/local/lib/python3.10/dist-packages (from imodels) (2.32.3)\n",
            "Requirement already satisfied: scipy in /usr/local/lib/python3.10/dist-packages (from imodels) (1.13.1)\n",
            "Requirement already satisfied: scikit-learn>=1.2.0 in /usr/local/lib/python3.10/dist-packages (from imodels) (1.5.2)\n",
            "Requirement already satisfied: tqdm in /usr/local/lib/python3.10/dist-packages (from imodels) (4.66.6)\n",
            "Requirement already satisfied: joblib>=0.13.2 in /usr/local/lib/python3.10/dist-packages (from mlxtend>=0.18.0->imodels) (1.4.2)\n",
            "Requirement already satisfied: contourpy>=1.0.1 in /usr/local/lib/python3.10/dist-packages (from matplotlib->imodels) (1.3.0)\n",
            "Requirement already satisfied: cycler>=0.10 in /usr/local/lib/python3.10/dist-packages (from matplotlib->imodels) (0.12.1)\n",
            "Requirement already satisfied: fonttools>=4.22.0 in /usr/local/lib/python3.10/dist-packages (from matplotlib->imodels) (4.54.1)\n",
            "Requirement already satisfied: kiwisolver>=1.0.1 in /usr/local/lib/python3.10/dist-packages (from matplotlib->imodels) (1.4.7)\n",
            "Requirement already satisfied: packaging>=20.0 in /usr/local/lib/python3.10/dist-packages (from matplotlib->imodels) (24.2)\n",
            "Requirement already satisfied: pillow>=6.2.0 in /usr/local/lib/python3.10/dist-packages (from matplotlib->imodels) (11.0.0)\n",
            "Requirement already satisfied: pyparsing>=2.3.1 in /usr/local/lib/python3.10/dist-packages (from matplotlib->imodels) (3.2.0)\n",
            "Requirement already satisfied: python-dateutil>=2.7 in /usr/local/lib/python3.10/dist-packages (from matplotlib->imodels) (2.8.2)\n",
            "Requirement already satisfied: pytz>=2020.1 in /usr/local/lib/python3.10/dist-packages (from pandas->imodels) (2024.2)\n",
            "Requirement already satisfied: tzdata>=2022.7 in /usr/local/lib/python3.10/dist-packages (from pandas->imodels) (2024.2)\n",
            "Requirement already satisfied: threadpoolctl>=3.1.0 in /usr/local/lib/python3.10/dist-packages (from scikit-learn>=1.2.0->imodels) (3.5.0)\n",
            "Requirement already satisfied: charset-normalizer<4,>=2 in /usr/local/lib/python3.10/dist-packages (from requests->imodels) (3.4.0)\n",
            "Requirement already satisfied: idna<4,>=2.5 in /usr/local/lib/python3.10/dist-packages (from requests->imodels) (3.10)\n",
            "Requirement already satisfied: urllib3<3,>=1.21.1 in /usr/local/lib/python3.10/dist-packages (from requests->imodels) (2.2.3)\n",
            "Requirement already satisfied: certifi>=2017.4.17 in /usr/local/lib/python3.10/dist-packages (from requests->imodels) (2024.8.30)\n",
            "Requirement already satisfied: six>=1.5 in /usr/local/lib/python3.10/dist-packages (from python-dateutil>=2.7->matplotlib->imodels) (1.16.0)\n",
            "Downloading imodels-2.0.0-py3-none-any.whl (243 kB)\n",
            "\u001b[2K   \u001b[90m━━━━━━━━━━━━━━━━━━━━━━━━━━━━━━━━━━━━━━━━\u001b[0m \u001b[32m243.1/243.1 kB\u001b[0m \u001b[31m4.5 MB/s\u001b[0m eta \u001b[36m0:00:00\u001b[0m\n",
            "\u001b[?25hInstalling collected packages: imodels\n",
            "Successfully installed imodels-2.0.0\n"
          ]
        }
      ]
    },
    {
      "cell_type": "markdown",
      "source": [
        "## Data: PAES- Chilean Higher Education Admission Test (Prueba de acceso a la Educación Superior)\n",
        "\n",
        "For this tutorial we are going to use PAES,  the most recent selection test to access the Chilean higher education system. It favors the application and understanding of knowledge instead of memorization; and aims to close the existing gap between private and public school students' scores. The data gives the scores on Mathematics and Reading Competency as well as socioeconomic variables.\n",
        "\n",
        "### Variables\n",
        "\n",
        "We are going to select some socioeconomic variables to predict the Mathematics score from PAES.\n",
        "\n",
        "**y**: MATE1_REG_ACTUAL\n",
        "\n",
        "**X**:\n",
        "\n",
        "Socio-economic:\n",
        "-  Sex\n",
        "-  Per capita incomme\n",
        "-  High school gpa average\n",
        "-  Public or Private highschool\n",
        "\n",
        "Tecnology access:\n",
        "- Computer'\n",
        "- 'Tablet'\n",
        "- 'SmartPhone'\n",
        "- 'HOGAR_CONEXION_INTERNET'\n",
        "\n",
        "School Facilities:\n",
        "- 'Library',\n",
        "- 'Study_rooms'\n",
        "- 'Science_lab'\n",
        "- 'Computer_lab'\n"
      ],
      "metadata": {
        "id": "0brjxvLZvR8b"
      }
    },
    {
      "cell_type": "markdown",
      "source": [
        "### Load and prepare the data\n",
        "\n",
        "Run the following chunks of code to load and prepare the data\n"
      ],
      "metadata": {
        "id": "PZ3YNcO2ZKuP"
      }
    },
    {
      "cell_type": "code",
      "source": [
        "\"\"\" Clean data \"\"\"\n",
        "import pandas as pd\n",
        "\n",
        "# load data\n",
        "\n",
        "path_score='/content/drive/MyDrive/XAI_2/asiign_4/A_INSCRITOS_PUNTAJES_2023_PAES_PUB_MRUN.csv'\n",
        "test_score = pd.read_csv(path_score, delimiter=\";\", low_memory=False)\n",
        "\n",
        "score_math=test_score[['MRUN', 'MATE1_REG_ACTUAL', 'ANYO_PROCESO', 'COD_SEXO', 'FECHA_NACIMIENTO', 'RBD', 'CODIGO_ENS',\n",
        "                       'LOCAL_EDUCACIONAL', 'UNIDAD_EDUCATIVA', 'NOMBRE_UNIDAD_EDUC', 'RAMA_EDUCACIONAL', 'DEPENDENCIA',\n",
        "                       'CODIGO_REGION_EGRESO', 'NOMBRE_REGION_EGRESO', 'CODIGO_PROVINCIA_EGRESO', 'NOMBRE_PROVINCIA_EGRESO',\n",
        "                       'CODIGO_COMUNA_EGRESO', 'NOMBRE_COMUNA_EGRESO', 'ANYO_DE_EGRESO', 'PROMEDIO_NOTAS', 'PTJE_NEM']]\n",
        "score_read=test_score[['MRUN', 'CLEC_REG_ACTUAL']]\n",
        "\n",
        "\n",
        "path_socio='/content/drive/MyDrive/XAI_2/asiign_4/B_SOCIOECONOMICO_DOMICILIO_2023_PAES_PUB_MRUN.csv'\n",
        "socioeconomic = pd.read_csv(path_socio, delimiter=\";\")\n",
        "\n",
        "data = pd.merge(score_math, socioeconomic, how=\"inner\", on=[\"MRUN\",'ANYO_PROCESO','FECHA_NACIMIENTO'])\n",
        "data = pd.merge(score_read, data, how=\"inner\", on=\"MRUN\")\n",
        "\n",
        "# Drop nas from target vaiables and drop uneeded columns\n",
        "data = data[data[\"MATE1_REG_ACTUAL\"] != \" \"]\n",
        "data = data[data[\"CLEC_REG_ACTUAL\"] != \" \"]\n",
        "data = data[data[\"DEPENDENCIA\"] != \" \"]\n",
        "data = data[data[\"DEPENDENCIA\"] != \" \"]\n",
        "\n",
        "data[\"MATE1_REG_ACTUAL\"] = data[\"MATE1_REG_ACTUAL\"].astype(int)\n",
        "data[\"CLEC_REG_ACTUAL\"] = data[\"CLEC_REG_ACTUAL\"].astype(int)\n",
        "\n",
        "data = data[data[\"MATE1_REG_ACTUAL\"] > 0]\n",
        "data = data[data[\"CLEC_REG_ACTUAL\"] > 0]\n",
        "data = data.drop(columns=data.filter(like='CODIGO').columns)\n",
        "\n",
        "\n",
        "# map and tranform catagorical variables, rename columns\n",
        "\n",
        "dependency_mapping = {\n",
        "    \"1\": \"Public School\",\n",
        "    \"2\": \"Public School\",\n",
        "    \"3\": \"Private subsidized School\",\n",
        "    \"4\": \"Private non-subsidized School\",\n",
        "    \"5\": \"Delegated Administration School\",\n",
        "    \"6\": \"Public School\",\n",
        "}\n",
        "\n",
        "gender_mapping = {\n",
        "    1: \"Male\",\n",
        "    2: \"Female\"\n",
        "}\n",
        "\n",
        "razon_paes={\n",
        "    1:' Porque busco mejorar alguno(s) de mis resultados pasados.'\n",
        "    ,2: 'Para estudiar una carrera técnica'\n",
        "    ,3: 'Para estudiar una carrera universitaria'\n",
        "    ,4: 'Para ingresar a la PDI, Fuerzas armadas'\n",
        "    ,5: 'Por otra razón'\n",
        "    ,6: 'Porque no pude rendir alguna aplicación pasada '\n",
        "    ,7: 'Porque soy profesional de la educación y deseo conocer el instrumento'\n",
        "    ,8: 'Porque me obligaron a inscribirme en el colegio'\n",
        "    ,9: 'Prefiero no responder'\n",
        "}\n",
        "\n",
        "uso_espacio_mapping={\n",
        "     0: 'No aplica'\n",
        "    ,1: 'Menos de 1 hora a la semana '\n",
        "    ,2: 'Entre 1 y 3 horas a la semana'\n",
        "    ,3: 'Entre 3 y 5 horas a la semana'\n",
        "    ,4: 'Más de 5 horas a la semana'\n",
        "}\n",
        "\n",
        "tranquilidad_colegio_mapping={\n",
        "    1: 'Nunca'\n",
        "    ,2: 'Rara vez'\n",
        "    ,3: 'A menudo'\n",
        "    ,4: 'Casi siempre'\n",
        "    ,5: 'Siempre'\n",
        "    ,9: 'Prefiero no responder'\n",
        "}\n",
        "\n",
        "data[\"DEPENDENCIA\"] = data[\"DEPENDENCIA\"].replace(dependency_mapping)\n",
        "\n",
        "data[\"SEXO\"] = data[\"SEXO\"].replace(gender_mapping)\n",
        "data[\"RAZON_PRINCIPAL_PAES\"] = data[\"RAZON_PRINCIPAL_PAES\"].replace(razon_paes)\n",
        "\n",
        "data[\"TRANQUILIDAD_COLEGIO\"]= data[\"TRANQUILIDAD_COLEGIO\"].replace(tranquilidad_colegio_mapping)\n",
        "data[\"TRABAJO_GRUPO_COLEGIO\"] = data[\"TRABAJO_GRUPO_COLEGIO\"].replace(tranquilidad_colegio_mapping)\n",
        "\n",
        "\n",
        "data.rename(columns={'ESPACIO_1':'Library',}, inplace=True)\n",
        "data.rename(columns={'ESPACIO_2':'Study_rooms',}, inplace=True)\n",
        "data.rename(columns={'ESPACIO_3':'Science_lab',}, inplace=True)\n",
        "data.rename(columns={'ESPACIO_4':'Art_room',}, inplace=True)\n",
        "data.rename(columns={'ESPACIO_5':'Kitchen',}, inplace=True)\n",
        "data.rename(columns={'ESPACIO_6':'Tech_lab',}, inplace=True)\n",
        "data.rename(columns={'ESPACIO_7':'PE_Gym',}, inplace=True)\n",
        "data.rename(columns={'ESPACIO_8':'Computer_lab',}, inplace=True)\n",
        "\n",
        "\n",
        "data.rename(columns={'DISPOSITIVO_1':'Computer',}, inplace=True)\n",
        "data.rename(columns={'DISPOSITIVO_2':'Tablet',}, inplace=True)\n",
        "data.rename(columns={'DISPOSITIVO_3':'SmartPhone',}, inplace=True)\n",
        "data.rename(columns={'DISPOSITIVO_4':'No tech devices',}, inplace=True)\n",
        "data.drop(['DISPOSITIVO_5','ESPACIO_9','FECHA_NACIMIENTO','MRUN','CLEC_REG_ACTUAL','COD_SEXO'], axis=1, inplace=True)\n",
        "data.drop(columns=data.filter(like='USO_').columns, inplace=True)\n",
        "\n",
        "data['PROMEDIO_NOTAS'] = pd.to_numeric(data['PROMEDIO_NOTAS'], errors='coerce')\n",
        "\n",
        "data.drop(data[data['HOGAR_CONEXION_INTERNET'] == '9'].index, inplace=True)\n",
        "data.drop(data[data['INGRESO_PERCAPITA_GRUPO_FA']== 99].index, inplace=True)\n",
        "\n",
        "# construct region variable\n",
        "\n",
        "def group_regions(region):\n",
        "    major_regions = [\n",
        "        'REGION METROPOLITANA DE SANTIAGO',\n",
        "        'REGION DE VALPARAISO',\n",
        "        'REGION DEL BIOBIO',\n",
        "        'REGION DEL MAULE',\n",
        "        'REGION DE LA ARAUCANIA'\n",
        "    ]\n",
        "    return region if region in major_regions else 'OTRAS REGIONES'\n",
        "\n",
        "data['REGION'] = data['NOMBRE_REGION_EGRESO'].apply(group_regions)\n",
        "\n",
        "\n",
        "\n",
        "data.shape"
      ],
      "metadata": {
        "colab": {
          "base_uri": "https://localhost:8080/"
        },
        "id": "l1OlSPA5ZHlQ",
        "outputId": "ff13b523-ce95-4753-c070-1b4bbebab620"
      },
      "execution_count": null,
      "outputs": [
        {
          "output_type": "execute_result",
          "data": {
            "text/plain": [
              "(175204, 35)"
            ]
          },
          "metadata": {},
          "execution_count": 10
        }
      ]
    },
    {
      "cell_type": "code",
      "source": [
        "\"\"\" Reduce dataset and prepare data as it has categorical and numerical variables\"\"\"\n",
        "\n",
        "numerical_vars = ['PTJE_NEM', 'INGRESO_PERCAPITA_GRUPO_FA']\n",
        "\n",
        "binary_vars = [ 'SEXO',\n",
        "               'Computer', 'Tablet', 'SmartPhone', 'HOGAR_CONEXION_INTERNET','Library', 'Study_rooms', 'Science_lab',\n",
        "               'Art_room', 'Kitchen', 'Tech_lab', 'PE_Gym', 'Computer_lab',\n",
        "             ]\n",
        "\n",
        "target = 'MATE1_REG_ACTUAL'\n",
        "\n",
        "X = data[numerical_vars].copy()\n",
        "\n",
        "# encode DEPENDENCIA\n",
        "le = LabelEncoder()\n",
        "X['DEPENDENCIA'] = le.fit_transform(data['DEPENDENCIA'])\n",
        "\n",
        "\n",
        "\n",
        "# encode REGION\n",
        "le_reg = LabelEncoder()\n",
        "X['REGION'] = le_reg.fit_transform(data['REGION'])\n",
        "\n",
        "\n",
        "\n",
        "# transform binary categories to binary vars\n",
        "for col in binary_vars:\n",
        "        if col == 'SEXO':\n",
        "            X[col] = (data[col] == 'Male').astype(int)\n",
        "        else:\n",
        "            X[col] = (data[col] == 'S').astype(int)\n",
        "\n",
        "y = data[target]"
      ],
      "metadata": {
        "collapsed": true,
        "id": "ylO0UxsUUrhJ"
      },
      "execution_count": null,
      "outputs": []
    },
    {
      "cell_type": "markdown",
      "source": [
        "## Rulefit Classifier\n",
        "\n",
        "\n",
        "\n",
        "The RuleFit algorithm by Friedman and Popescu (2008) learns sparse linear models that include automatically detected interaction effects in the form of decision rules.\n",
        "\n",
        "\n",
        "\n",
        "\n",
        "RuleFit learns a sparse linear model with the original features and also a number of new features that are decision rules. These new features capture interactions between the original features. RuleFit automatically generates these features from decision trees. Each path through a tree can be transformed into a decision rule by combining the split decisions into a rule. The node predictions are discarded and only the splits are used in the decision rules.\n",
        "\n",
        "Learn more on: https://christophm.github.io/interpretable-ml-book/rulefit.html\n",
        "\n",
        "To fit this model, our target variable will be transformed to a binary output to make the computing time efficient. We are going to create a dummy for scores higher or equal to the third quartile: 609, as the distribution of the score is as follows:"
      ],
      "metadata": {
        "id": "k98Zk9KEZXjU"
      }
    },
    {
      "cell_type": "code",
      "source": [
        "import matplotlib.pyplot as plt\n",
        "mean_value = data[\"MATE1_REG_ACTUAL\"].mean()\n",
        "\n",
        "data[\"MATE1_REG_ACTUAL\"].plot(kind='hist', bins=40, color='blue', alpha=0.7)\n",
        "plt.axvline(mean_value, color='red', linestyle='dashed', linewidth=2, label=f'Mean: {mean_value:.2f}')\n",
        "\n",
        "plt.title('Histogram of MATH Scores')\n",
        "plt.xlabel('Math Score')\n",
        "plt.ylabel('Frequency')\n",
        "\n",
        "plt.show()\n"
      ],
      "metadata": {
        "colab": {
          "base_uri": "https://localhost:8080/",
          "height": 527
        },
        "id": "LYASLhYH6OE6",
        "outputId": "33f54cb8-61df-464a-eb05-0eb4167c7cba"
      },
      "execution_count": null,
      "outputs": [
        {
          "output_type": "stream",
          "name": "stderr",
          "text": [
            "/usr/local/lib/python3.10/dist-packages/ipykernel/ipkernel.py:283: DeprecationWarning: `should_run_async` will not call `transform_cell` automatically in the future. Please pass the result to `transformed_cell` argument and any exception that happen during thetransform in `preprocessing_exc_tuple` in IPython 7.17 and above.\n",
            "  and should_run_async(code)\n"
          ]
        },
        {
          "output_type": "display_data",
          "data": {
            "text/plain": [
              "<Figure size 640x480 with 1 Axes>"
            ],
            "image/png": "[encoded data removed]"
          },
          "metadata": {}
        }
      ]
    },
    {
      "cell_type": "markdown",
      "source": [
        "### Split data into train and split"
      ],
      "metadata": {
        "id": "8mS57zTYcw8Q"
      }
    },
    {
      "cell_type": "code",
      "source": [
        "from sklearn.model_selection import train_test_split\n",
        "from imodels import  GreedyTreeRegressor # import any imodels model here\n",
        "import numpy as np\n",
        "# prepare data (a sample clinical dataset)\n",
        "X_a = X.to_numpy()\n",
        "y_a= y.to_numpy().ravel()\n",
        "features= X.columns\n",
        "X_train, X_test, y_train, y_test = train_test_split(\n",
        "    X_a, y_a, random_state=42)\n",
        "\n",
        "y_test_b = np.where(y_test >= 609, 1, 0)\n",
        "y_train_b = np.where(y_train >= 609, 1, 0)"
      ],
      "metadata": {
        "colab": {
          "base_uri": "https://localhost:8080/"
        },
        "id": "Z8s1ctiJ7Kwx",
        "outputId": "4249cda9-c029-4f9d-cd7c-0ceb8e7756f5"
      },
      "execution_count": null,
      "outputs": [
        {
          "output_type": "stream",
          "name": "stderr",
          "text": [
            "/usr/local/lib/python3.10/dist-packages/ipykernel/ipkernel.py:283: DeprecationWarning: `should_run_async` will not call `transform_cell` automatically in the future. Please pass the result to `transformed_cell` argument and any exception that happen during thetransform in `preprocessing_exc_tuple` in IPython 7.17 and above.\n",
            "  and should_run_async(code)\n"
          ]
        }
      ]
    },
    {
      "cell_type": "markdown",
      "source": [
        "### Implement model\n",
        "\n",
        "RuleFit follows these steps:\n",
        "1. Train ensemble of decision trees and generate decision rules\n",
        "2. Transfrom each rule to a binary feature\n",
        "3. Fit Linear model with Lasso Regularization to keep most important rules\n",
        "4. Rules with the highest absolute coefficient values have the strongest impact on predicting y.\n",
        "\n",
        "And imodels lets us implement it.\n",
        "\n"
      ],
      "metadata": {
        "id": "AUxIegRd6day"
      }
    },
    {
      "cell_type": "code",
      "source": [
        "from imodels import RuleFitClassifier\n",
        "\n",
        "#set model\n",
        "model_t = RuleFitClassifier( n_estimators=500,  # number of trees to generate rules\n",
        "                            max_rules=30,      # maximum number of rules to include\n",
        "                            tree_size=4,       # average number of terminal nodes\n",
        "                            sample_fract=0.5,  # fraction of data to use for each tree\n",
        "                            memory_par=0.01 )   # memory parameter for rule generation\n",
        "\n",
        "\n",
        "#Fit the model\n",
        "model_t.fit(X_train, y_train_b, feature_names=features)   # fit model\n",
        "preds_t = model_t.predict(X_test) # discrete predictions: shape is (n_test, 1)\n"
      ],
      "metadata": {
        "colab": {
          "base_uri": "https://localhost:8080/"
        },
        "id": "pM-3r7QAskYC",
        "outputId": "42b0714a-51a6-4171-f6ae-3282839a096e"
      },
      "execution_count": null,
      "outputs": [
        {
          "output_type": "stream",
          "name": "stderr",
          "text": [
            "/usr/local/lib/python3.10/dist-packages/ipykernel/ipkernel.py:283: DeprecationWarning: `should_run_async` will not call `transform_cell` automatically in the future. Please pass the result to `transformed_cell` argument and any exception that happen during thetransform in `preprocessing_exc_tuple` in IPython 7.17 and above.\n",
            "  and should_run_async(code)\n"
          ]
        }
      ]
    },
    {
      "cell_type": "markdown",
      "source": [
        "### Print the rules and their coeficients"
      ],
      "metadata": {
        "id": "3mEEoQ1clUKW"
      }
    },
    {
      "cell_type": "code",
      "source": [
        "model_t.visualize()"
      ],
      "metadata": {
        "colab": {
          "base_uri": "https://localhost:8080/",
          "height": 950
        },
        "id": "-SHrRb5alKK1",
        "outputId": "962b9f67-a686-4c13-b99c-4b5550122a80"
      },
      "execution_count": null,
      "outputs": [
        {
          "output_type": "stream",
          "name": "stderr",
          "text": [
            "/usr/local/lib/python3.10/dist-packages/ipykernel/ipkernel.py:283: DeprecationWarning: `should_run_async` will not call `transform_cell` automatically in the future. Please pass the result to `transformed_cell` argument and any exception that happen during thetransform in `preprocessing_exc_tuple` in IPython 7.17 and above.\n",
            "  and should_run_async(code)\n"
          ]
        },
        {
          "output_type": "execute_result",
          "data": {
            "text/plain": [
              "                                                                       rule  \\\n",
              "36                  PTJE_NEM <= 867.5 and INGRESO_PERCAPITA_GRUPO_FA <= 9.5   \n",
              "42                                  PTJE_NEM <= 875.0 and DEPENDENCIA > 1.5   \n",
              "35                                  PTJE_NEM <= 853.5 and DEPENDENCIA > 1.5   \n",
              "21                                                        PTJE_NEM <= 805.0   \n",
              "41                  PTJE_NEM <= 818.5 and INGRESO_PERCAPITA_GRUPO_FA <= 9.5   \n",
              "28                                  PTJE_NEM <= 833.5 and DEPENDENCIA > 1.5   \n",
              "34                                                        PTJE_NEM <= 790.0   \n",
              "30                                                        PTJE_NEM <= 790.5   \n",
              "27                                                        PTJE_NEM <= 782.5   \n",
              "32                                                        PTJE_NEM <= 775.0   \n",
              "22                                                        PTJE_NEM <= 776.5   \n",
              "18                                                        PTJE_NEM <= 772.5   \n",
              "40                                                        PTJE_NEM <= 747.0   \n",
              "31                                                        PTJE_NEM <= 748.0   \n",
              "38                                                        PTJE_NEM <= 744.0   \n",
              "26                                                        PTJE_NEM <= 740.5   \n",
              "24                                                        PTJE_NEM <= 740.0   \n",
              "33                                                        PTJE_NEM <= 725.5   \n",
              "37                                                        PTJE_NEM <= 718.5   \n",
              "19                                                        PTJE_NEM <= 719.5   \n",
              "17                                                        PTJE_NEM <= 711.0   \n",
              "23                                        PTJE_NEM <= 889.5 and SEXO <= 0.5   \n",
              "20                                        PTJE_NEM <= 890.0 and SEXO <= 0.5   \n",
              "29                                        PTJE_NEM <= 883.0 and SEXO <= 0.5   \n",
              "39  PTJE_NEM <= 904.0 and INGRESO_PERCAPITA_GRUPO_FA <= 9.5 and SEXO <= 0.5   \n",
              "25                  PTJE_NEM <= 935.5 and DEPENDENCIA > 1.5 and SEXO <= 0.5   \n",
              "43            PTJE_NEM > 676.0 and DEPENDENCIA <= 2.5 and DEPENDENCIA > 0.5   \n",
              "\n",
              "    coef  \n",
              "36 -0.03  \n",
              "42 -0.15  \n",
              "35 -0.18  \n",
              "21 -0.04  \n",
              "41 -0.21  \n",
              "28 -0.11  \n",
              "34 -0.09  \n",
              "30 -0.07  \n",
              "27 -0.00  \n",
              "32 -0.04  \n",
              "22 -0.02  \n",
              "18 -0.08  \n",
              "40 -0.02  \n",
              "31 -0.02  \n",
              "38 -0.09  \n",
              "26 -0.04  \n",
              "24 -0.08  \n",
              "33 -0.01  \n",
              "37 -0.02  \n",
              "19 -0.01  \n",
              "17 -0.09  \n",
              "23 -0.04  \n",
              "20 -0.03  \n",
              "29 -0.06  \n",
              "39 -0.29  \n",
              "25 -0.24  \n",
              "43  0.26  "
            ],
            "text/html": [
              "\n",
              "  <div id=\"df-35cfe9e6-0733-43b2-bdc9-d94629093587\" class=\"colab-df-container\">\n",
              "    <div>\n",
              "<style scoped>\n",
              "    .dataframe tbody tr th:only-of-type {\n",
              "        vertical-align: middle;\n",
              "    }\n",
              "\n",
              "    .dataframe tbody tr th {\n",
              "        vertical-align: top;\n",
              "    }\n",
              "\n",
              "    .dataframe thead th {\n",
              "        text-align: right;\n",
              "    }\n",
              "</style>\n",
              "<table border=\"1\" class=\"dataframe\">\n",
              "  <thead>\n",
              "    <tr style=\"text-align: right;\">\n",
              "      <th></th>\n",
              "      <th>rule</th>\n",
              "      <th>coef</th>\n",
              "    </tr>\n",
              "  </thead>\n",
              "  <tbody>\n",
              "    <tr>\n",
              "      <th>36</th>\n",
              "      <td>PTJE_NEM &lt;= 867.5 and INGRESO_PERCAPITA_GRUPO_FA &lt;= 9.5</td>\n",
              "      <td>-0.03</td>\n",
              "    </tr>\n",
              "    <tr>\n",
              "      <th>42</th>\n",
              "      <td>PTJE_NEM &lt;= 875.0 and DEPENDENCIA &gt; 1.5</td>\n",
              "      <td>-0.15</td>\n",
              "    </tr>\n",
              "    <tr>\n",
              "      <th>35</th>\n",
              "      <td>PTJE_NEM &lt;= 853.5 and DEPENDENCIA &gt; 1.5</td>\n",
              "      <td>-0.18</td>\n",
              "    </tr>\n",
              "    <tr>\n",
              "      <th>21</th>\n",
              "      <td>PTJE_NEM &lt;= 805.0</td>\n",
              "      <td>-0.04</td>\n",
              "    </tr>\n",
              "    <tr>\n",
              "      <th>41</th>\n",
              "      <td>PTJE_NEM &lt;= 818.5 and INGRESO_PERCAPITA_GRUPO_FA &lt;= 9.5</td>\n",
              "      <td>-0.21</td>\n",
              "    </tr>\n",
              "    <tr>\n",
              "      <th>28</th>\n",
              "      <td>PTJE_NEM &lt;= 833.5 and DEPENDENCIA &gt; 1.5</td>\n",
              "      <td>-0.11</td>\n",
              "    </tr>\n",
              "    <tr>\n",
              "      <th>34</th>\n",
              "      <td>PTJE_NEM &lt;= 790.0</td>\n",
              "      <td>-0.09</td>\n",
              "    </tr>\n",
              "    <tr>\n",
              "      <th>30</th>\n",
              "      <td>PTJE_NEM &lt;= 790.5</td>\n",
              "      <td>-0.07</td>\n",
              "    </tr>\n",
              "    <tr>\n",
              "      <th>27</th>\n",
              "      <td>PTJE_NEM &lt;= 782.5</td>\n",
              "      <td>-0.00</td>\n",
              "    </tr>\n",
              "    <tr>\n",
              "      <th>32</th>\n",
              "      <td>PTJE_NEM &lt;= 775.0</td>\n",
              "      <td>-0.04</td>\n",
              "    </tr>\n",
              "    <tr>\n",
              "      <th>22</th>\n",
              "      <td>PTJE_NEM &lt;= 776.5</td>\n",
              "      <td>-0.02</td>\n",
              "    </tr>\n",
              "    <tr>\n",
              "      <th>18</th>\n",
              "      <td>PTJE_NEM &lt;= 772.5</td>\n",
              "      <td>-0.08</td>\n",
              "    </tr>\n",
              "    <tr>\n",
              "      <th>40</th>\n",
              "      <td>PTJE_NEM &lt;= 747.0</td>\n",
              "      <td>-0.02</td>\n",
              "    </tr>\n",
              "    <tr>\n",
              "      <th>31</th>\n",
              "      <td>PTJE_NEM &lt;= 748.0</td>\n",
              "      <td>-0.02</td>\n",
              "    </tr>\n",
              "    <tr>\n",
              "      <th>38</th>\n",
              "      <td>PTJE_NEM &lt;= 744.0</td>\n",
              "      <td>-0.09</td>\n",
              "    </tr>\n",
              "    <tr>\n",
              "      <th>26</th>\n",
              "      <td>PTJE_NEM &lt;= 740.5</td>\n",
              "      <td>-0.04</td>\n",
              "    </tr>\n",
              "    <tr>\n",
              "      <th>24</th>\n",
              "      <td>PTJE_NEM &lt;= 740.0</td>\n",
              "      <td>-0.08</td>\n",
              "    </tr>\n",
              "    <tr>\n",
              "      <th>33</th>\n",
              "      <td>PTJE_NEM &lt;= 725.5</td>\n",
              "      <td>-0.01</td>\n",
              "    </tr>\n",
              "    <tr>\n",
              "      <th>37</th>\n",
              "      <td>PTJE_NEM &lt;= 718.5</td>\n",
              "      <td>-0.02</td>\n",
              "    </tr>\n",
              "    <tr>\n",
              "      <th>19</th>\n",
              "      <td>PTJE_NEM &lt;= 719.5</td>\n",
              "      <td>-0.01</td>\n",
              "    </tr>\n",
              "    <tr>\n",
              "      <th>17</th>\n",
              "      <td>PTJE_NEM &lt;= 711.0</td>\n",
              "      <td>-0.09</td>\n",
              "    </tr>\n",
              "    <tr>\n",
              "      <th>23</th>\n",
              "      <td>PTJE_NEM &lt;= 889.5 and SEXO &lt;= 0.5</td>\n",
              "      <td>-0.04</td>\n",
              "    </tr>\n",
              "    <tr>\n",
              "      <th>20</th>\n",
              "      <td>PTJE_NEM &lt;= 890.0 and SEXO &lt;= 0.5</td>\n",
              "      <td>-0.03</td>\n",
              "    </tr>\n",
              "    <tr>\n",
              "      <th>29</th>\n",
              "      <td>PTJE_NEM &lt;= 883.0 and SEXO &lt;= 0.5</td>\n",
              "      <td>-0.06</td>\n",
              "    </tr>\n",
              "    <tr>\n",
              "      <th>39</th>\n",
              "      <td>PTJE_NEM &lt;= 904.0 and INGRESO_PERCAPITA_GRUPO_FA &lt;= 9.5 and SEXO &lt;= 0.5</td>\n",
              "      <td>-0.29</td>\n",
              "    </tr>\n",
              "    <tr>\n",
              "      <th>25</th>\n",
              "      <td>PTJE_NEM &lt;= 935.5 and DEPENDENCIA &gt; 1.5 and SEXO &lt;= 0.5</td>\n",
              "      <td>-0.24</td>\n",
              "    </tr>\n",
              "    <tr>\n",
              "      <th>43</th>\n",
              "      <td>PTJE_NEM &gt; 676.0 and DEPENDENCIA &lt;= 2.5 and DEPENDENCIA &gt; 0.5</td>\n",
              "      <td>0.26</td>\n",
              "    </tr>\n",
              "  </tbody>\n",
              "</table>\n",
              "</div>\n",
              "    <div class=\"colab-df-buttons\">\n",
              "\n",
              "  <div class=\"colab-df-container\">\n",
              "    <button class=\"colab-df-convert\" onclick=\"convertToInteractive('df-35cfe9e6-0733-43b2-bdc9-d94629093587')\"\n",
              "            title=\"Convert this dataframe to an interactive table.\"\n",
              "            style=\"display:none;\">\n",
              "\n",
              "  <svg xmlns=\"http://www.w3.org/2000/svg\" height=\"24px\" viewBox=\"0 -960 960 960\">\n",
              "    <path d=\"M120-120v-720h720v720H120Zm60-500h600v-160H180v160Zm220 220h160v-160H400v160Zm0 220h160v-160H400v160ZM180-400h160v-160H180v160Zm440 0h160v-160H620v160ZM180-180h160v-160H180v160Zm440 0h160v-160H620v160Z\"/>\n",
              "  </svg>\n",
              "    </button>\n",
              "\n",
              "  <style>\n",
              "    .colab-df-container {\n",
              "      display:flex;\n",
              "      gap: 12px;\n",
              "    }\n",
              "\n",
              "    .colab-df-convert {\n",
              "      background-color: #E8F0FE;\n",
              "      border: none;\n",
              "      border-radius: 50%;\n",
              "      cursor: pointer;\n",
              "      display: none;\n",
              "      fill: #1967D2;\n",
              "      height: 32px;\n",
              "      padding: 0 0 0 0;\n",
              "      width: 32px;\n",
              "    }\n",
              "\n",
              "    .colab-df-convert:hover {\n",
              "      background-color: #E2EBFA;\n",
              "      box-shadow: 0px 1px 2px rgba(60, 64, 67, 0.3), 0px 1px 3px 1px rgba(60, 64, 67, 0.15);\n",
              "      fill: #174EA6;\n",
              "    }\n",
              "\n",
              "    .colab-df-buttons div {\n",
              "      margin-bottom: 4px;\n",
              "    }\n",
              "\n",
              "    [theme=dark] .colab-df-convert {\n",
              "      background-color: #3B4455;\n",
              "      fill: #D2E3FC;\n",
              "    }\n",
              "\n",
              "    [theme=dark] .colab-df-convert:hover {\n",
              "      background-color: #434B5C;\n",
              "      box-shadow: 0px 1px 3px 1px rgba(0, 0, 0, 0.15);\n",
              "      filter: drop-shadow(0px 1px 2px rgba(0, 0, 0, 0.3));\n",
              "      fill: #FFFFFF;\n",
              "    }\n",
              "  </style>\n",
              "\n",
              "    <script>\n",
              "      const buttonEl =\n",
              "        document.querySelector('#df-35cfe9e6-0733-43b2-bdc9-d94629093587 button.colab-df-convert');\n",
              "      buttonEl.style.display =\n",
              "        google.colab.kernel.accessAllowed ? 'block' : 'none';\n",
              "\n",
              "      async function convertToInteractive(key) {\n",
              "        const element = document.querySelector('#df-35cfe9e6-0733-43b2-bdc9-d94629093587');\n",
              "        const dataTable =\n",
              "          await google.colab.kernel.invokeFunction('convertToInteractive',\n",
              "                                                    [key], {});\n",
              "        if (!dataTable) return;\n",
              "\n",
              "        const docLinkHtml = 'Like what you see? Visit the ' +\n",
              "          '<a target=\"_blank\" href=https://colab.research.google.com/notebooks/data_table.ipynb>data table notebook</a>'\n",
              "          + ' to learn more about interactive tables.';\n",
              "        element.innerHTML = '';\n",
              "        dataTable['output_type'] = 'display_data';\n",
              "        await google.colab.output.renderOutput(dataTable, element);\n",
              "        const docLink = document.createElement('div');\n",
              "        docLink.innerHTML = docLinkHtml;\n",
              "        element.appendChild(docLink);\n",
              "      }\n",
              "    </script>\n",
              "  </div>\n",
              "\n",
              "\n",
              "<div id=\"df-7c700a1b-72ec-475e-b302-0dbf80540f35\">\n",
              "  <button class=\"colab-df-quickchart\" onclick=\"quickchart('df-7c700a1b-72ec-475e-b302-0dbf80540f35')\"\n",
              "            title=\"Suggest charts\"\n",
              "            style=\"display:none;\">\n",
              "\n",
              "<svg xmlns=\"http://www.w3.org/2000/svg\" height=\"24px\"viewBox=\"0 0 24 24\"\n",
              "     width=\"24px\">\n",
              "    <g>\n",
              "        <path d=\"M19 3H5c-1.1 0-2 .9-2 2v14c0 1.1.9 2 2 2h14c1.1 0 2-.9 2-2V5c0-1.1-.9-2-2-2zM9 17H7v-7h2v7zm4 0h-2V7h2v10zm4 0h-2v-4h2v4z\"/>\n",
              "    </g>\n",
              "</svg>\n",
              "  </button>\n",
              "\n",
              "<style>\n",
              "  .colab-df-quickchart {\n",
              "      --bg-color: #E8F0FE;\n",
              "      --fill-color: #1967D2;\n",
              "      --hover-bg-color: #E2EBFA;\n",
              "      --hover-fill-color: #174EA6;\n",
              "      --disabled-fill-color: #AAA;\n",
              "      --disabled-bg-color: #DDD;\n",
              "  }\n",
              "\n",
              "  [theme=dark] .colab-df-quickchart {\n",
              "      --bg-color: #3B4455;\n",
              "      --fill-color: #D2E3FC;\n",
              "      --hover-bg-color: #434B5C;\n",
              "      --hover-fill-color: #FFFFFF;\n",
              "      --disabled-bg-color: #3B4455;\n",
              "      --disabled-fill-color: #666;\n",
              "  }\n",
              "\n",
              "  .colab-df-quickchart {\n",
              "    background-color: var(--bg-color);\n",
              "    border: none;\n",
              "    border-radius: 50%;\n",
              "    cursor: pointer;\n",
              "    display: none;\n",
              "    fill: var(--fill-color);\n",
              "    height: 32px;\n",
              "    padding: 0;\n",
              "    width: 32px;\n",
              "  }\n",
              "\n",
              "  .colab-df-quickchart:hover {\n",
              "    background-color: var(--hover-bg-color);\n",
              "    box-shadow: 0 1px 2px rgba(60, 64, 67, 0.3), 0 1px 3px 1px rgba(60, 64, 67, 0.15);\n",
              "    fill: var(--button-hover-fill-color);\n",
              "  }\n",
              "\n",
              "  .colab-df-quickchart-complete:disabled,\n",
              "  .colab-df-quickchart-complete:disabled:hover {\n",
              "    background-color: var(--disabled-bg-color);\n",
              "    fill: var(--disabled-fill-color);\n",
              "    box-shadow: none;\n",
              "  }\n",
              "\n",
              "  .colab-df-spinner {\n",
              "    border: 2px solid var(--fill-color);\n",
              "    border-color: transparent;\n",
              "    border-bottom-color: var(--fill-color);\n",
              "    animation:\n",
              "      spin 1s steps(1) infinite;\n",
              "  }\n",
              "\n",
              "  @keyframes spin {\n",
              "    0% {\n",
              "      border-color: transparent;\n",
              "      border-bottom-color: var(--fill-color);\n",
              "      border-left-color: var(--fill-color);\n",
              "    }\n",
              "    20% {\n",
              "      border-color: transparent;\n",
              "      border-left-color: var(--fill-color);\n",
              "      border-top-color: var(--fill-color);\n",
              "    }\n",
              "    30% {\n",
              "      border-color: transparent;\n",
              "      border-left-color: var(--fill-color);\n",
              "      border-top-color: var(--fill-color);\n",
              "      border-right-color: var(--fill-color);\n",
              "    }\n",
              "    40% {\n",
              "      border-color: transparent;\n",
              "      border-right-color: var(--fill-color);\n",
              "      border-top-color: var(--fill-color);\n",
              "    }\n",
              "    60% {\n",
              "      border-color: transparent;\n",
              "      border-right-color: var(--fill-color);\n",
              "    }\n",
              "    80% {\n",
              "      border-color: transparent;\n",
              "      border-right-color: var(--fill-color);\n",
              "      border-bottom-color: var(--fill-color);\n",
              "    }\n",
              "    90% {\n",
              "      border-color: transparent;\n",
              "      border-bottom-color: var(--fill-color);\n",
              "    }\n",
              "  }\n",
              "</style>\n",
              "\n",
              "  <script>\n",
              "    async function quickchart(key) {\n",
              "      const quickchartButtonEl =\n",
              "        document.querySelector('#' + key + ' button');\n",
              "      quickchartButtonEl.disabled = true;  // To prevent multiple clicks.\n",
              "      quickchartButtonEl.classList.add('colab-df-spinner');\n",
              "      try {\n",
              "        const charts = await google.colab.kernel.invokeFunction(\n",
              "            'suggestCharts', [key], {});\n",
              "      } catch (error) {\n",
              "        console.error('Error during call to suggestCharts:', error);\n",
              "      }\n",
              "      quickchartButtonEl.classList.remove('colab-df-spinner');\n",
              "      quickchartButtonEl.classList.add('colab-df-quickchart-complete');\n",
              "    }\n",
              "    (() => {\n",
              "      let quickchartButtonEl =\n",
              "        document.querySelector('#df-7c700a1b-72ec-475e-b302-0dbf80540f35 button');\n",
              "      quickchartButtonEl.style.display =\n",
              "        google.colab.kernel.accessAllowed ? 'block' : 'none';\n",
              "    })();\n",
              "  </script>\n",
              "</div>\n",
              "\n",
              "    </div>\n",
              "  </div>\n"
            ],
            "application/vnd.google.colaboratory.intrinsic+json": {
              "type": "dataframe",
              "summary": "{\n  \"name\": \"model_t\",\n  \"rows\": 27,\n  \"fields\": [\n    {\n      \"column\": \"rule\",\n      \"properties\": {\n        \"dtype\": \"string\",\n        \"num_unique_values\": 27,\n        \"samples\": [\n          \"PTJE_NEM <= 782.5\",\n          \"PTJE_NEM <= 748.0\",\n          \"PTJE_NEM <= 775.0\"\n        ],\n        \"semantic_type\": \"\",\n        \"description\": \"\"\n      }\n    },\n    {\n      \"column\": \"coef\",\n      \"properties\": {\n        \"dtype\": \"number\",\n        \"std\": 0.09922778767136675,\n        \"min\": -0.29,\n        \"max\": 0.26,\n        \"num_unique_values\": 16,\n        \"samples\": [\n          -0.03,\n          -0.15,\n          -0.11\n        ],\n        \"semantic_type\": \"\",\n        \"description\": \"\"\n      }\n    }\n  ]\n}"
            }
          },
          "metadata": {},
          "execution_count": 33
        }
      ]
    },
    {
      "cell_type": "markdown",
      "source": [
        "you can also print alll the rules without their coeficients"
      ],
      "metadata": {
        "id": "hGY0wX8klK6U"
      }
    },
    {
      "cell_type": "code",
      "source": [
        "model_t.rules_"
      ],
      "metadata": {
        "colab": {
          "base_uri": "https://localhost:8080/"
        },
        "id": "tw_mQGfxjZ_M",
        "outputId": "01ebbc39-a3d6-4219-bd65-c03abf1897ed"
      },
      "execution_count": null,
      "outputs": [
        {
          "output_type": "stream",
          "name": "stderr",
          "text": [
            "/usr/local/lib/python3.10/dist-packages/ipykernel/ipkernel.py:283: DeprecationWarning: `should_run_async` will not call `transform_cell` automatically in the future. Please pass the result to `transformed_cell` argument and any exception that happen during thetransform in `preprocessing_exc_tuple` in IPython 7.17 and above.\n",
            "  and should_run_async(code)\n"
          ]
        },
        {
          "output_type": "execute_result",
          "data": {
            "text/plain": [
              "[PTJE_NEM <= 711.0,\n",
              " PTJE_NEM <= 772.5,\n",
              " PTJE_NEM <= 719.5,\n",
              " PTJE_NEM <= 890.0 and SEXO <= 0.5,\n",
              " PTJE_NEM <= 805.0,\n",
              " PTJE_NEM <= 776.5,\n",
              " PTJE_NEM <= 889.5 and SEXO <= 0.5,\n",
              " PTJE_NEM <= 740.0,\n",
              " DEPENDENCIA > 1.5 and PTJE_NEM <= 935.5 and SEXO <= 0.5,\n",
              " PTJE_NEM <= 740.5,\n",
              " PTJE_NEM <= 782.5,\n",
              " DEPENDENCIA > 1.5 and PTJE_NEM <= 833.5,\n",
              " PTJE_NEM <= 883.0 and SEXO <= 0.5,\n",
              " PTJE_NEM <= 790.5,\n",
              " PTJE_NEM <= 748.0,\n",
              " PTJE_NEM <= 775.0,\n",
              " PTJE_NEM <= 725.5,\n",
              " PTJE_NEM <= 790.0,\n",
              " DEPENDENCIA > 1.5 and PTJE_NEM <= 853.5,\n",
              " INGRESO_PERCAPITA_GRUPO_FA <= 9.5 and PTJE_NEM <= 867.5,\n",
              " PTJE_NEM <= 718.5,\n",
              " PTJE_NEM <= 744.0,\n",
              " INGRESO_PERCAPITA_GRUPO_FA <= 9.5 and PTJE_NEM <= 904.0 and SEXO <= 0.5,\n",
              " PTJE_NEM <= 747.0,\n",
              " INGRESO_PERCAPITA_GRUPO_FA <= 9.5 and PTJE_NEM <= 818.5,\n",
              " DEPENDENCIA > 1.5 and PTJE_NEM <= 875.0,\n",
              " DEPENDENCIA <= 2.5 and DEPENDENCIA > 0.5 and PTJE_NEM > 676.0]"
            ]
          },
          "metadata": {},
          "execution_count": 34
        }
      ]
    },
    {
      "cell_type": "markdown",
      "source": [
        "### Coefficient visualization\n",
        "Use this visualization to aid you in the interpretability of the rules that predict the Math score the most.\n"
      ],
      "metadata": {
        "id": "P8ysg46Du9cE"
      }
    },
    {
      "cell_type": "code",
      "source": [
        "import matplotlib.pyplot as plt\n",
        "\n",
        "\n",
        "df=model_t.visualize()\n",
        "\n",
        "# Sort by the absolute value of the coefficients\n",
        "df[\"Abs_Coefficient\"] = df[\"coef\"].abs()\n",
        "df = df.sort_values(by=\"Abs_Coefficient\", ascending=False)\n",
        "\n",
        "# Plot\n",
        "plt.figure(figsize=(10, 6))\n",
        "plt.barh(df[\"rule\"], df[\"coef\"], color=\"blue\")\n",
        "plt.title(\"Rule Importance based on Coefficients\")\n",
        "plt.xlabel(\"Coefficient\")\n",
        "plt.ylabel(\"Rules\")\n",
        "plt.show()\n"
      ],
      "metadata": {
        "colab": {
          "base_uri": "https://localhost:8080/"
        },
        "id": "plWqioXSBKWB",
        "outputId": "6916a354-f7fa-4b38-a577-bcdd2420cb0c"
      },
      "execution_count": null,
      "outputs": [
        {
          "output_type": "stream",
          "name": "stderr",
          "text": [
            "/usr/local/lib/python3.10/dist-packages/ipykernel/ipkernel.py:283: DeprecationWarning: `should_run_async` will not call `transform_cell` automatically in the future. Please pass the result to `transformed_cell` argument and any exception that happen during thetransform in `preprocessing_exc_tuple` in IPython 7.17 and above.\n",
            "  and should_run_async(code)\n"
          ]
        },
        {
          "output_type": "display_data",
          "data": {
            "text/plain": [
              "<Figure size 1000x600 with 1 Axes>"
            ],
            "image/png": "[encoded data removed]"
          },
          "metadata": {}
        }
      ]
    }
  ]
}